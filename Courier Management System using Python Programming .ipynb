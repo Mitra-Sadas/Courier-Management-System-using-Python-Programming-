{
 "cells": [
  {
   "cell_type": "markdown",
   "id": "fbd1327f",
   "metadata": {},
   "source": [
    "### Created a Dictionary of lists to store the information of shipments provided"
   ]
  },
  {
   "cell_type": "code",
   "execution_count": 62,
   "id": "c54fa836",
   "metadata": {},
   "outputs": [
    {
     "data": {
      "text/plain": [
       "{101: [1, 3, '14-03-2020', '25-03-2020', 'Area1', 'Area6', 'Delivered', 198],\n",
       " 102: [4, 1, '18-06-2020', '09-07-2020', 'Area2', 'Area4', 'Delivered', 275],\n",
       " 103: [2, 3, '01-12-2020', 'Null', 'Area5', 'Area1', 'In-Transit', 200],\n",
       " 104: [1, 5, '23-06-2020', '25-06-2020', 'Area1', 'Area4', 'Delivered', 314],\n",
       " 105: [3, 4, '29-08-2020', '10-09-2020', 'Area5', 'Area3', 'Delivered', 275],\n",
       " 106: [5, 2, '28-09-2020', 'Null', 'Area3', 'Area1', 'In-Transit', 270]}"
      ]
     },
     "execution_count": 62,
     "metadata": {},
     "output_type": "execute_result"
    }
   ],
   "source": [
    "Shipments={101 : [1,3,'14-03-2020','25-03-2020','Area1','Area6','Delivered',198], \n",
    "           102 : [4,1,'18-06-2020','09-07-2020','Area2','Area4','Delivered',275],\n",
    "           103 : [2,3,'01-12-2020','Null','Area5','Area1','In-Transit',200],\n",
    "           104 : [1,5,'23-06-2020','25-06-2020','Area1','Area4','Delivered',314],\n",
    "           105 : [3,4,'29-08-2020','10-09-2020','Area5','Area3','Delivered',275],\n",
    "           106 : [5,2,'28-09-2020','Null','Area3','Area1','In-Transit',270]}\n",
    "Shipments"
   ]
  },
  {
   "cell_type": "markdown",
   "id": "b6b7efb4",
   "metadata": {},
   "source": [
    "### Created a Dictionary of to store the information of clients provided."
   ]
  },
  {
   "cell_type": "code",
   "execution_count": 63,
   "id": "35299e02",
   "metadata": {},
   "outputs": [
    {
     "data": {
      "text/plain": [
       "{1: 'Phillip', 2: 'Omega III', 3: 'Ramya', 4: 'Romesh', 5: 'John'}"
      ]
     },
     "execution_count": 63,
     "metadata": {},
     "output_type": "execute_result"
    }
   ],
   "source": [
    "Clients={1:'Phillip',\n",
    "         2:'Omega III',\n",
    "         3:'Ramya',\n",
    "         4:'Romesh',\n",
    "         5:'John'}\n",
    "Clients"
   ]
  },
  {
   "cell_type": "markdown",
   "id": "c0b1fe62",
   "metadata": {},
   "source": [
    "### below is the code developed to replace client’s id with their respective name in shipment dictionary using a loop and dictionary comprehension"
   ]
  },
  {
   "cell_type": "markdown",
   "id": "ea80f973",
   "metadata": {},
   "source": [
    "##### Using Loop"
   ]
  },
  {
   "cell_type": "code",
   "execution_count": 78,
   "id": "e51b50e9",
   "metadata": {},
   "outputs": [
    {
     "data": {
      "text/plain": [
       "{101: ['Phillip',\n",
       "  'Ramya',\n",
       "  '14-03-2020',\n",
       "  '25-03-2020',\n",
       "  'Area1',\n",
       "  'Area6',\n",
       "  'Delivered',\n",
       "  198],\n",
       " 102: ['Romesh',\n",
       "  'Phillip',\n",
       "  '18-06-2020',\n",
       "  '09-07-2020',\n",
       "  'Area2',\n",
       "  'Area4',\n",
       "  'Delivered',\n",
       "  275],\n",
       " 103: ['Omega III',\n",
       "  'Ramya',\n",
       "  '01-12-2020',\n",
       "  'Null',\n",
       "  'Area5',\n",
       "  'Area1',\n",
       "  'In-Transit',\n",
       "  200],\n",
       " 104: ['Phillip',\n",
       "  'John',\n",
       "  '23-06-2020',\n",
       "  '25-06-2020',\n",
       "  'Area1',\n",
       "  'Area4',\n",
       "  'Delivered',\n",
       "  314],\n",
       " 105: ['Ramya',\n",
       "  'Romesh',\n",
       "  '29-08-2020',\n",
       "  '10-09-2020',\n",
       "  'Area5',\n",
       "  'Area3',\n",
       "  'Delivered',\n",
       "  275],\n",
       " 106: ['John',\n",
       "  'Omega III',\n",
       "  '28-09-2020',\n",
       "  'Null',\n",
       "  'Area3',\n",
       "  'Area1',\n",
       "  'In-Transit',\n",
       "  270]}"
      ]
     },
     "execution_count": 78,
     "metadata": {},
     "output_type": "execute_result"
    }
   ],
   "source": [
    "for i in Shipments:\n",
    "    sender=Shipments[i][0]\n",
    "    receiver=Shipments[i][1]\n",
    "    Shipments[i][0]=Clients[sender]\n",
    "    Shipments[i][1]=Clients[receiver]\n",
    "\n",
    "Shipments\n",
    "    "
   ]
  },
  {
   "cell_type": "markdown",
   "id": "c9f17839",
   "metadata": {},
   "source": [
    "##### Using Dictionary comprehension"
   ]
  },
  {
   "cell_type": "code",
   "execution_count": 65,
   "id": "0095cd6a",
   "metadata": {},
   "outputs": [
    {
     "data": {
      "text/plain": [
       "{101: ['Phillip',\n",
       "  'Ramya',\n",
       "  '14-03-2020',\n",
       "  '25-03-2020',\n",
       "  'Area1',\n",
       "  'Area6',\n",
       "  'Delivered',\n",
       "  198],\n",
       " 102: ['Romesh',\n",
       "  'Phillip',\n",
       "  '18-06-2020',\n",
       "  '09-07-2020',\n",
       "  'Area2',\n",
       "  'Area4',\n",
       "  'Delivered',\n",
       "  275],\n",
       " 103: ['Omega III',\n",
       "  'Ramya',\n",
       "  '01-12-2020',\n",
       "  'Null',\n",
       "  'Area5',\n",
       "  'Area1',\n",
       "  'In-Transit',\n",
       "  200],\n",
       " 104: ['Phillip',\n",
       "  'John',\n",
       "  '23-06-2020',\n",
       "  '25-06-2020',\n",
       "  'Area1',\n",
       "  'Area4',\n",
       "  'Delivered',\n",
       "  314],\n",
       " 105: ['Ramya',\n",
       "  'Romesh',\n",
       "  '29-08-2020',\n",
       "  '10-09-2020',\n",
       "  'Area5',\n",
       "  'Area3',\n",
       "  'Delivered',\n",
       "  275],\n",
       " 106: ['John',\n",
       "  'Omega III',\n",
       "  '28-09-2020',\n",
       "  'Null',\n",
       "  'Area3',\n",
       "  'Area1',\n",
       "  'In-Transit',\n",
       "  270]}"
      ]
     },
     "execution_count": 65,
     "metadata": {},
     "output_type": "execute_result"
    }
   ],
   "source": [
    "Shipments={101 : [1,3,'14-03-2020','25-03-2020','Area1','Area6','Delivered',198], \n",
    "           102 : [4,1,'18-06-2020','09-07-2020','Area2','Area4','Delivered',275],\n",
    "           103 : [2,3,'01-12-2020','Null','Area5','Area1','In-Transit',200],\n",
    "           104 : [1,5,'23-06-2020','25-06-2020','Area1','Area4','Delivered',314],\n",
    "           105 : [3,4,'29-08-2020','10-09-2020','Area5','Area3','Delivered',275],\n",
    "           106 : [5,2,'28-09-2020','Null','Area3','Area1','In-Transit',270]}\n",
    "\n",
    "ship1 ={i:[Clients[Shipments[i][0]],Clients[Shipments[i][1]],Shipments[i][2],Shipments[i][3],Shipments[i][4],Shipments[i][5],Shipments[i][6],Shipments[i][7]] for i in Shipments}\n",
    "ship1"
   ]
  },
  {
   "cell_type": "markdown",
   "id": "8037f31d",
   "metadata": {},
   "source": [
    "### shipment details that are sent by Phillip"
   ]
  },
  {
   "cell_type": "code",
   "execution_count": 93,
   "id": "e5c1d24c",
   "metadata": {},
   "outputs": [
    {
     "name": "stdout",
     "output_type": "stream",
     "text": [
      "Shipment details that are sent by Phillip:\n",
      "101 , ['Phillip', 'Ramya', '14-03-2020', '25-03-2020', 'Area1', 'Area6', 'Delivered', 198]\n",
      "104 , ['Phillip', 'John', '23-06-2020', '25-06-2020', 'Area1', 'Area4', 'Delivered', 314]\n"
     ]
    }
   ],
   "source": [
    "print(\"Shipment details that are sent by Phillip:\")\n",
    "for i in Shipments:\n",
    "\n",
    "    if Shipments[i][0]=='Phillip':\n",
    "            print(i,\",\",Shipments[i])"
   ]
  },
  {
   "cell_type": "markdown",
   "id": "9b47100d",
   "metadata": {},
   "source": [
    "### shipment details that are received by Ramya"
   ]
  },
  {
   "cell_type": "code",
   "execution_count": 91,
   "id": "eb52ee79",
   "metadata": {},
   "outputs": [
    {
     "name": "stdout",
     "output_type": "stream",
     "text": [
      "Shipment details that are received by Ramya:\n",
      "101 , ['Phillip', 'Ramya', '14-03-2020', '25-03-2020', 'Area1', 'Area6', 'Delivered', 198]\n",
      "103 , ['Omega III', 'Ramya', '01-12-2020', 'Null', 'Area5', 'Area1', 'In-Transit', 200]\n"
     ]
    }
   ],
   "source": [
    "print(\"Shipment details that are received by Ramya:\")\n",
    "for i in Shipments:\n",
    "       \n",
    "    if Shipments[i][1]==\"Ramya\":\n",
    "        print(i,\",\",Shipments[i])"
   ]
  },
  {
   "cell_type": "markdown",
   "id": "8bf76296",
   "metadata": {},
   "source": [
    "### shipments which are in 'In-Transit' status"
   ]
  },
  {
   "cell_type": "code",
   "execution_count": 94,
   "id": "f32a600b",
   "metadata": {},
   "outputs": [
    {
     "name": "stdout",
     "output_type": "stream",
     "text": [
      "shipments which are in 'In-Transit' status:\n",
      "103 , ['Omega III', 'Ramya', '01-12-2020', 'Null', 'Area5', 'Area1', 'In-Transit', 200]\n",
      "106 , ['John', 'Omega III', '28-09-2020', 'Null', 'Area3', 'Area1', 'In-Transit', 270]\n"
     ]
    }
   ],
   "source": [
    "print(\"shipments which are in 'In-Transit' status:\")\n",
    "for i in Shipments:\n",
    "    \n",
    "    if Shipments[i][6]==\"In-Transit\":\n",
    "        print(i,\",\",Shipments[i])"
   ]
  },
  {
   "cell_type": "markdown",
   "id": "865a5b02",
   "metadata": {},
   "source": [
    "### shipments which are delivered within 7 days of courier Start date"
   ]
  },
  {
   "cell_type": "code",
   "execution_count": 110,
   "id": "440a7d14",
   "metadata": {},
   "outputs": [
    {
     "name": "stdout",
     "output_type": "stream",
     "text": [
      "shipments which are delivered within 7 days:\n",
      "104 , ['Phillip', 'John', '23-06-2020', '25-06-2020', 'Area1', 'Area4', 'Delivered', 314]\n"
     ]
    }
   ],
   "source": [
    "import datetime\n",
    "\n",
    "print(\"shipments which are delivered within 7 days:\")\n",
    "\n",
    "for i in Shipments:\n",
    "    delivereddate=Shipments[i][3]\n",
    "    startdate=Shipments[i][2]\n",
    "    \n",
    "    if delivereddate!=\"Null\":\n",
    "    \n",
    "        delivered=datetime.datetime.strptime(delivereddate,'%d-%m-%Y')\n",
    "        \n",
    "        start=datetime.datetime.strptime(startdate,'%d-%m-%Y')\n",
    "\n",
    "        days=delivered-start\n",
    "\n",
    "        if days.days<7:\n",
    "            print(i,\",\",Shipments[i])\n",
    "        "
   ]
  },
  {
   "cell_type": "markdown",
   "id": "8c9cc6f8",
   "metadata": {},
   "source": [
    "### shipments which are delivered after 15 days of courier start date or not yet been delivered."
   ]
  },
  {
   "cell_type": "code",
   "execution_count": 111,
   "id": "a5d14b12",
   "metadata": {},
   "outputs": [
    {
     "name": "stdout",
     "output_type": "stream",
     "text": [
      "shipments which are delivered within 7 days:\n",
      "102 , ['Romesh', 'Phillip', '18-06-2020', '09-07-2020', 'Area2', 'Area4', 'Delivered', 275]\n",
      "103 , ['Omega III', 'Ramya', '01-12-2020', 'Null', 'Area5', 'Area1', 'In-Transit', 200]\n",
      "106 , ['John', 'Omega III', '28-09-2020', 'Null', 'Area3', 'Area1', 'In-Transit', 270]\n"
     ]
    }
   ],
   "source": [
    "import datetime\n",
    "\n",
    "print(\"shipments which are delivered within 7 days:\")\n",
    "\n",
    "for i in Shipments:\n",
    "    delivereddate=Shipments[i][3]\n",
    "    startdate=Shipments[i][2]\n",
    "    \n",
    "    if delivereddate!=\"Null\":\n",
    "    \n",
    "        delivered=datetime.datetime.strptime(delivereddate,'%d-%m-%Y')\n",
    "        \n",
    "        start=datetime.datetime.strptime(startdate,'%d-%m-%Y')\n",
    "\n",
    "        days=delivered-start\n",
    "\n",
    "        if days.days>15:\n",
    "            print(i,\",\",Shipments[i])\n",
    "            \n",
    "    elif delivereddate==\"Null\":\n",
    "        print(i,\",\",Shipments[i])"
   ]
  },
  {
   "attachments": {
    "image.png": {
     "image/png": "[encoded data removed]"
    }
   },
   "cell_type": "markdown",
   "id": "fa878d4f",
   "metadata": {},
   "source": [
    "### A function is derived to find_all_routes to display all possible routes from senders location to receivers location given in the dictionary for each shipment.\n",
    "![image.png](attachment:image.png)"
   ]
  },
  {
   "cell_type": "code",
   "execution_count": 131,
   "id": "c693e5d1",
   "metadata": {},
   "outputs": [
    {
     "name": "stdout",
     "output_type": "stream",
     "text": [
      "Shipment Id:  101\n",
      "Sender's Location: 1\n",
      "Receiver's Location: 6\n",
      "All possible routes : \n",
      "[1, 6]\n",
      "-----------------------------------\n",
      "Shipment Id:  102\n",
      "Sender's Location: 2\n",
      "Receiver's Location: 4\n",
      "All possible routes : \n",
      "[2, 3, 4]\n",
      "[2, 4]\n",
      "-----------------------------------\n",
      "Shipment Id:  103\n",
      "Sender's Location: 5\n",
      "Receiver's Location: 1\n",
      "All possible routes : \n",
      "[5, 4, 2, 1]\n",
      "[5, 4, 3, 2, 1]\n",
      "-----------------------------------\n",
      "Shipment Id:  104\n",
      "Sender's Location: 1\n",
      "Receiver's Location: 4\n",
      "All possible routes : \n",
      "[1, 2, 3, 4]\n",
      "[1, 2, 4]\n",
      "-----------------------------------\n",
      "Shipment Id:  105\n",
      "Sender's Location: 5\n",
      "Receiver's Location: 3\n",
      "All possible routes : \n",
      "[5, 4, 2, 3]\n",
      "[5, 4, 3]\n",
      "-----------------------------------\n",
      "Shipment Id:  106\n",
      "Sender's Location: 3\n",
      "Receiver's Location: 1\n",
      "All possible routes : \n",
      "[3, 2, 1]\n",
      "[3, 4, 2, 1]\n",
      "-----------------------------------\n"
     ]
    }
   ],
   "source": [
    "matrix = [[0,1,0,0,0,1],[1,0,1,1,0,0],[0,1,0,1,0,0],[0,1,1,0,1,0],[0,0,0,1,0,0],[1,0,0,0,0,0]]\n",
    "visited=[False for i in range(6)]\n",
    "path = []\n",
    "\n",
    "\n",
    "def find_all_routes(matrix,sender,receiver,visited,path):     \n",
    "        \n",
    "        visited[sender]= True   \n",
    "        path.append(sender+1)\n",
    "        \n",
    "        if sender == receiver:\n",
    "            print(path) \n",
    "        else: \n",
    "            for i in range(6):\n",
    "                if matrix[sender][i] == 1 and (visited[i]== False): \n",
    "                    find_all_routes(matrix,i, receiver, visited, path) \n",
    "       \n",
    "        path.pop() \n",
    "        visited[sender]= False\n",
    "\n",
    "\n",
    "def Show_all_routes(ship):\n",
    "    for i in ship:\n",
    "        print('Shipment Id: ',i)\n",
    "        s = int(ship[i][4][-1])     \n",
    "        print(\"Sender's Location:\" , s)\n",
    "        r = int(ship[i][5][-1]) \n",
    "        print(\"Receiver's Location:\" , r)\n",
    "        print('All possible routes : ')\n",
    "        find_all_routes(matrix,s-1,r-1,visited,path)\n",
    "        print('-----------------------------------')\n",
    "        \n",
    "\n",
    "Show_all_routes(Shipments)"
   ]
  },
  {
   "cell_type": "code",
   "execution_count": null,
   "id": "aee8c9b3",
   "metadata": {},
   "outputs": [],
   "source": []
  }
 ],
 "metadata": {
  "kernelspec": {
   "display_name": "Python 3",
   "language": "python",
   "name": "python3"
  },
  "language_info": {
   "codemirror_mode": {
    "name": "ipython",
    "version": 3
   },
   "file_extension": ".py",
   "mimetype": "text/x-python",
   "name": "python",
   "nbconvert_exporter": "python",
   "pygments_lexer": "ipython3",
   "version": "3.8.8"
  }
 },
 "nbformat": 4,
 "nbformat_minor": 5
}
